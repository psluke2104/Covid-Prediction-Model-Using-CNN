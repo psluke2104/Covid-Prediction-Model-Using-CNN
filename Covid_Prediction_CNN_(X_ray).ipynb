{
  "nbformat": 4,
  "nbformat_minor": 0,
  "metadata": {
    "colab": {
      "name": "Covid Prediction CNN (X ray).ipynb",
      "provenance": [],
      "include_colab_link": true
    },
    "kernelspec": {
      "name": "python3",
      "display_name": "Python 3"
    },
    "accelerator": "GPU"
  },
  "cells": [
    {
      "cell_type": "markdown",
      "metadata": {
        "id": "view-in-github",
        "colab_type": "text"
      },
      "source": [
        "<a href=\"https://colab.research.google.com/github/psluke2104/Covid-Prediction-Model-Using-CNN/blob/main/Covid_Prediction_CNN_(X_ray).ipynb\" target=\"_parent\"><img src=\"https://colab.research.google.com/assets/colab-badge.svg\" alt=\"Open In Colab\"/></a>"
      ]
    },
    {
      "cell_type": "code",
      "metadata": {
        "colab": {
          "base_uri": "https://localhost:8080/"
        },
        "id": "dvRUoRzyyoEt",
        "outputId": "852fec59-8138-463b-ddbf-f46522b4d6e5"
      },
      "source": [
        "from google.colab import drive\r\n",
        "drive.mount('/content/drive')"
      ],
      "execution_count": null,
      "outputs": [
        {
          "output_type": "stream",
          "text": [
            "Drive already mounted at /content/drive; to attempt to forcibly remount, call drive.mount(\"/content/drive\", force_remount=True).\n"
          ],
          "name": "stdout"
        }
      ]
    },
    {
      "cell_type": "code",
      "metadata": {
        "colab": {
          "base_uri": "https://localhost:8080/"
        },
        "id": "MEm5dGfr0d6C",
        "outputId": "4e9db14b-a2b5-469b-9141-973af432db17"
      },
      "source": [
        "from zipfile import ZipFile\r\n",
        "file_name=\"/content/drive/MyDrive/Colab Notebooks/COVID-19 X ray  Database.zip\"\r\n",
        "with ZipFile(file_name,'r')as zip:\r\n",
        "  zip.extractall()\r\n",
        "  print(\"Completed\")"
      ],
      "execution_count": null,
      "outputs": [
        {
          "output_type": "stream",
          "text": [
            "Completed\n"
          ],
          "name": "stdout"
        }
      ]
    },
    {
      "cell_type": "code",
      "metadata": {
        "id": "I3iN6tq91qMv"
      },
      "source": [
        "from tensorflow.keras.layers import *\r\n",
        "from tensorflow.keras.models import *\r\n"
      ],
      "execution_count": null,
      "outputs": []
    },
    {
      "cell_type": "code",
      "metadata": {
        "id": "K-lOwDwN17Gt"
      },
      "source": [
        "#Training model\r\n",
        "model = Sequential() #creating a blank model\r\n",
        "model.add(Conv2D(32,input_shape = (224,224,3),activation='relu',kernel_size=(3,3)))\r\n",
        "model.add(MaxPooling2D(pool_size=(2,2)))\r\n",
        "\r\n",
        "model.add(Conv2D(64,(3,3),activation='relu'))\r\n",
        "model.add(MaxPooling2D(pool_size=(2,2)))\r\n",
        "model.add(Dropout(0.25))\r\n",
        "\r\n",
        "model.add(Conv2D(64,(3,3),activation='relu'))\r\n",
        "model.add(MaxPooling2D(pool_size=(2,2)))\r\n",
        "model.add(Dropout(0.25))\r\n",
        "\r\n",
        "model.add(Conv2D(128,(3,3),activation='relu'))\r\n",
        "model.add(MaxPooling2D(pool_size=(2,2)))\r\n",
        "model.add(Dropout(0.25))\r\n",
        "\r\n",
        "model.add(Flatten())\r\n",
        "model.add(Dense(64,activation='relu'))\r\n",
        "model.add(Dropout(0.5))\r\n",
        "model.add(Dense(1,activation='sigmoid'))\r\n",
        "\r\n",
        "model.compile(loss='binary_crossentropy',optimizer='adam',metrics=['accuracy'])\r\n",
        "print(\"complete\")"
      ],
      "execution_count": null,
      "outputs": []
    },
    {
      "cell_type": "code",
      "metadata": {
        "id": "ixVDeP4s8wAv"
      },
      "source": [
        "from tensorflow.keras.preprocessing import image\r\n",
        "train_datagen = image.ImageDataGenerator(rescale =1./255,shear_range = 0.2,zoom_range = 0.2, horizontal_flip=True)\r\n",
        "test_dataset = image.ImageDataGenerator(rescale=1./255)"
      ],
      "execution_count": null,
      "outputs": []
    },
    {
      "cell_type": "code",
      "metadata": {
        "colab": {
          "base_uri": "https://localhost:8080/"
        },
        "id": "SkOPEEJ8-BR2",
        "outputId": "69324bb4-07e3-4c84-e017-8dfe3e25366b"
      },
      "source": [
        "train_generator = train_datagen.flow_from_directory(\r\n",
        "    '/content/COVID-19 X ray  Database/train',\r\n",
        "    target_size = (224,224),\r\n",
        "    batch_size = 32,\r\n",
        "    class_mode = 'binary')\r\n",
        "validation_generator = test_dataset.flow_from_directory(\r\n",
        "    '/content/COVID-19 X ray  Database/val',\r\n",
        "    target_size = (224,224),\r\n",
        "    batch_size = 32,\r\n",
        "    class_mode = 'binary')"
      ],
      "execution_count": null,
      "outputs": [
        {
          "output_type": "stream",
          "text": [
            "Found 224 images belonging to 2 classes.\n",
            "Found 62 images belonging to 2 classes.\n"
          ],
          "name": "stdout"
        }
      ]
    },
    {
      "cell_type": "code",
      "metadata": {
        "id": "2n_HH9vhGY8X",
        "colab": {
          "base_uri": "https://localhost:8080/"
        },
        "outputId": "75734175-f315-460c-894c-3b3122b1ae47"
      },
      "source": [
        "#### Train the model\n",
        "history = model.fit_generator(\n",
        "    train_generator,\n",
        "    steps_per_epoch=7,\n",
        "    epochs = 20,\n",
        "    validation_data = validation_generator,\n",
        "    validation_steps=1\n",
        ")"
      ],
      "execution_count": null,
      "outputs": [
        {
          "output_type": "stream",
          "text": [
            "/usr/local/lib/python3.6/dist-packages/tensorflow/python/keras/engine/training.py:1844: UserWarning: `Model.fit_generator` is deprecated and will be removed in a future version. Please use `Model.fit`, which supports generators.\n",
            "  warnings.warn('`Model.fit_generator` is deprecated and '\n"
          ],
          "name": "stderr"
        },
        {
          "output_type": "stream",
          "text": [
            "Epoch 1/20\n",
            "7/7 [==============================] - 5s 697ms/step - loss: 0.1105 - accuracy: 0.9821 - val_loss: 0.0329 - val_accuracy: 1.0000\n",
            "Epoch 2/20\n",
            "7/7 [==============================] - 5s 699ms/step - loss: 0.1019 - accuracy: 0.9643 - val_loss: 0.1125 - val_accuracy: 0.9688\n",
            "Epoch 3/20\n",
            "7/7 [==============================] - 5s 704ms/step - loss: 0.1345 - accuracy: 0.9777 - val_loss: 0.1256 - val_accuracy: 0.9688\n",
            "Epoch 4/20\n",
            "7/7 [==============================] - 5s 694ms/step - loss: 0.0791 - accuracy: 0.9821 - val_loss: 0.0099 - val_accuracy: 1.0000\n",
            "Epoch 5/20\n",
            "7/7 [==============================] - 5s 697ms/step - loss: 0.0877 - accuracy: 0.9643 - val_loss: 0.0275 - val_accuracy: 1.0000\n",
            "Epoch 6/20\n",
            "7/7 [==============================] - 5s 706ms/step - loss: 0.1335 - accuracy: 0.9732 - val_loss: 0.0092 - val_accuracy: 1.0000\n",
            "Epoch 7/20\n",
            "7/7 [==============================] - 5s 701ms/step - loss: 0.0897 - accuracy: 0.9598 - val_loss: 0.0148 - val_accuracy: 1.0000\n",
            "Epoch 8/20\n",
            "7/7 [==============================] - 5s 695ms/step - loss: 0.0922 - accuracy: 0.9643 - val_loss: 0.1693 - val_accuracy: 0.9375\n",
            "Epoch 9/20\n",
            "7/7 [==============================] - 5s 711ms/step - loss: 0.0705 - accuracy: 0.9821 - val_loss: 0.1679 - val_accuracy: 0.9688\n",
            "Epoch 10/20\n",
            "7/7 [==============================] - 5s 688ms/step - loss: 0.1167 - accuracy: 0.9598 - val_loss: 0.0531 - val_accuracy: 1.0000\n",
            "Epoch 11/20\n",
            "7/7 [==============================] - 5s 698ms/step - loss: 0.1189 - accuracy: 0.9777 - val_loss: 0.0523 - val_accuracy: 0.9688\n",
            "Epoch 12/20\n",
            "7/7 [==============================] - 5s 698ms/step - loss: 0.0902 - accuracy: 0.9688 - val_loss: 0.1298 - val_accuracy: 0.9375\n",
            "Epoch 13/20\n",
            "7/7 [==============================] - 5s 712ms/step - loss: 0.0533 - accuracy: 0.9821 - val_loss: 0.0097 - val_accuracy: 1.0000\n",
            "Epoch 14/20\n",
            "7/7 [==============================] - 5s 697ms/step - loss: 0.0798 - accuracy: 0.9821 - val_loss: 0.0144 - val_accuracy: 1.0000\n",
            "Epoch 15/20\n",
            "7/7 [==============================] - 5s 707ms/step - loss: 0.0898 - accuracy: 0.9598 - val_loss: 0.1395 - val_accuracy: 0.9688\n",
            "Epoch 16/20\n",
            "7/7 [==============================] - 5s 693ms/step - loss: 0.0681 - accuracy: 0.9688 - val_loss: 0.0094 - val_accuracy: 1.0000\n",
            "Epoch 17/20\n",
            "7/7 [==============================] - 5s 689ms/step - loss: 0.0680 - accuracy: 0.9732 - val_loss: 0.0468 - val_accuracy: 0.9688\n",
            "Epoch 18/20\n",
            "7/7 [==============================] - 5s 704ms/step - loss: 0.0653 - accuracy: 0.9777 - val_loss: 0.0276 - val_accuracy: 1.0000\n",
            "Epoch 19/20\n",
            "7/7 [==============================] - 5s 702ms/step - loss: 0.0771 - accuracy: 0.9732 - val_loss: 0.1271 - val_accuracy: 0.9688\n",
            "Epoch 20/20\n",
            "7/7 [==============================] - 5s 695ms/step - loss: 0.0653 - accuracy: 0.9777 - val_loss: 0.0191 - val_accuracy: 1.0000\n"
          ],
          "name": "stdout"
        }
      ]
    },
    {
      "cell_type": "markdown",
      "metadata": {
        "id": "_J4D2UyTTQYh"
      },
      "source": [
        ""
      ]
    }
  ]
}